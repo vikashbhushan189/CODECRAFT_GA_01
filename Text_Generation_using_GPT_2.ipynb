{
  "nbformat": 4,
  "nbformat_minor": 0,
  "metadata": {
    "colab": {
      "provenance": [],
      "gpuType": "T4",
      "authorship_tag": "ABX9TyPDI+W6mtNN0A/EurRohdgr",
      "include_colab_link": true
    },
    "kernelspec": {
      "name": "python3",
      "display_name": "Python 3"
    },
    "language_info": {
      "name": "python"
    },
    "accelerator": "GPU",
    "widgets": {
      "application/vnd.jupyter.widget-state+json": {
        "f4c33ec95dda4156aa122d5d0b1a7931": {
          "model_module": "@jupyter-widgets/controls",
          "model_name": "HBoxModel",
          "model_module_version": "1.5.0",
          "state": {
            "_dom_classes": [],
            "_model_module": "@jupyter-widgets/controls",
            "_model_module_version": "1.5.0",
            "_model_name": "HBoxModel",
            "_view_count": null,
            "_view_module": "@jupyter-widgets/controls",
            "_view_module_version": "1.5.0",
            "_view_name": "HBoxView",
            "box_style": "",
            "children": [
              "IPY_MODEL_bc4afd15f589472999f4612f750a9f17",
              "IPY_MODEL_bc32226042bf45d68a29a13c81c110d7",
              "IPY_MODEL_71027b7b21f94f4ba795c359f0a59fa4"
            ],
            "layout": "IPY_MODEL_107a84074046443889d3f09674231447"
          }
        },
        "bc4afd15f589472999f4612f750a9f17": {
          "model_module": "@jupyter-widgets/controls",
          "model_name": "HTMLModel",
          "model_module_version": "1.5.0",
          "state": {
            "_dom_classes": [],
            "_model_module": "@jupyter-widgets/controls",
            "_model_module_version": "1.5.0",
            "_model_name": "HTMLModel",
            "_view_count": null,
            "_view_module": "@jupyter-widgets/controls",
            "_view_module_version": "1.5.0",
            "_view_name": "HTMLView",
            "description": "",
            "description_tooltip": null,
            "layout": "IPY_MODEL_89be56faf49e4e39943fb5953d6423b7",
            "placeholder": "​",
            "style": "IPY_MODEL_302ffeae09b045a9a0cb1320df658ebc",
            "value": "vocab.json: 100%"
          }
        },
        "bc32226042bf45d68a29a13c81c110d7": {
          "model_module": "@jupyter-widgets/controls",
          "model_name": "FloatProgressModel",
          "model_module_version": "1.5.0",
          "state": {
            "_dom_classes": [],
            "_model_module": "@jupyter-widgets/controls",
            "_model_module_version": "1.5.0",
            "_model_name": "FloatProgressModel",
            "_view_count": null,
            "_view_module": "@jupyter-widgets/controls",
            "_view_module_version": "1.5.0",
            "_view_name": "ProgressView",
            "bar_style": "success",
            "description": "",
            "description_tooltip": null,
            "layout": "IPY_MODEL_0a1d409f186c4aee820736f1c7b19df8",
            "max": 1042301,
            "min": 0,
            "orientation": "horizontal",
            "style": "IPY_MODEL_f79662ad893e4db1990f8b36b46f2313",
            "value": 1042301
          }
        },
        "71027b7b21f94f4ba795c359f0a59fa4": {
          "model_module": "@jupyter-widgets/controls",
          "model_name": "HTMLModel",
          "model_module_version": "1.5.0",
          "state": {
            "_dom_classes": [],
            "_model_module": "@jupyter-widgets/controls",
            "_model_module_version": "1.5.0",
            "_model_name": "HTMLModel",
            "_view_count": null,
            "_view_module": "@jupyter-widgets/controls",
            "_view_module_version": "1.5.0",
            "_view_name": "HTMLView",
            "description": "",
            "description_tooltip": null,
            "layout": "IPY_MODEL_3a226b313d5e48279284b3971dfb12ac",
            "placeholder": "​",
            "style": "IPY_MODEL_1fbc5b2ee1b44931a6e5f4e5690c38b3",
            "value": " 1.04M/1.04M [00:00&lt;00:00, 7.43MB/s]"
          }
        },
        "107a84074046443889d3f09674231447": {
          "model_module": "@jupyter-widgets/base",
          "model_name": "LayoutModel",
          "model_module_version": "1.2.0",
          "state": {
            "_model_module": "@jupyter-widgets/base",
            "_model_module_version": "1.2.0",
            "_model_name": "LayoutModel",
            "_view_count": null,
            "_view_module": "@jupyter-widgets/base",
            "_view_module_version": "1.2.0",
            "_view_name": "LayoutView",
            "align_content": null,
            "align_items": null,
            "align_self": null,
            "border": null,
            "bottom": null,
            "display": null,
            "flex": null,
            "flex_flow": null,
            "grid_area": null,
            "grid_auto_columns": null,
            "grid_auto_flow": null,
            "grid_auto_rows": null,
            "grid_column": null,
            "grid_gap": null,
            "grid_row": null,
            "grid_template_areas": null,
            "grid_template_columns": null,
            "grid_template_rows": null,
            "height": null,
            "justify_content": null,
            "justify_items": null,
            "left": null,
            "margin": null,
            "max_height": null,
            "max_width": null,
            "min_height": null,
            "min_width": null,
            "object_fit": null,
            "object_position": null,
            "order": null,
            "overflow": null,
            "overflow_x": null,
            "overflow_y": null,
            "padding": null,
            "right": null,
            "top": null,
            "visibility": null,
            "width": null
          }
        },
        "89be56faf49e4e39943fb5953d6423b7": {
          "model_module": "@jupyter-widgets/base",
          "model_name": "LayoutModel",
          "model_module_version": "1.2.0",
          "state": {
            "_model_module": "@jupyter-widgets/base",
            "_model_module_version": "1.2.0",
            "_model_name": "LayoutModel",
            "_view_count": null,
            "_view_module": "@jupyter-widgets/base",
            "_view_module_version": "1.2.0",
            "_view_name": "LayoutView",
            "align_content": null,
            "align_items": null,
            "align_self": null,
            "border": null,
            "bottom": null,
            "display": null,
            "flex": null,
            "flex_flow": null,
            "grid_area": null,
            "grid_auto_columns": null,
            "grid_auto_flow": null,
            "grid_auto_rows": null,
            "grid_column": null,
            "grid_gap": null,
            "grid_row": null,
            "grid_template_areas": null,
            "grid_template_columns": null,
            "grid_template_rows": null,
            "height": null,
            "justify_content": null,
            "justify_items": null,
            "left": null,
            "margin": null,
            "max_height": null,
            "max_width": null,
            "min_height": null,
            "min_width": null,
            "object_fit": null,
            "object_position": null,
            "order": null,
            "overflow": null,
            "overflow_x": null,
            "overflow_y": null,
            "padding": null,
            "right": null,
            "top": null,
            "visibility": null,
            "width": null
          }
        },
        "302ffeae09b045a9a0cb1320df658ebc": {
          "model_module": "@jupyter-widgets/controls",
          "model_name": "DescriptionStyleModel",
          "model_module_version": "1.5.0",
          "state": {
            "_model_module": "@jupyter-widgets/controls",
            "_model_module_version": "1.5.0",
            "_model_name": "DescriptionStyleModel",
            "_view_count": null,
            "_view_module": "@jupyter-widgets/base",
            "_view_module_version": "1.2.0",
            "_view_name": "StyleView",
            "description_width": ""
          }
        },
        "0a1d409f186c4aee820736f1c7b19df8": {
          "model_module": "@jupyter-widgets/base",
          "model_name": "LayoutModel",
          "model_module_version": "1.2.0",
          "state": {
            "_model_module": "@jupyter-widgets/base",
            "_model_module_version": "1.2.0",
            "_model_name": "LayoutModel",
            "_view_count": null,
            "_view_module": "@jupyter-widgets/base",
            "_view_module_version": "1.2.0",
            "_view_name": "LayoutView",
            "align_content": null,
            "align_items": null,
            "align_self": null,
            "border": null,
            "bottom": null,
            "display": null,
            "flex": null,
            "flex_flow": null,
            "grid_area": null,
            "grid_auto_columns": null,
            "grid_auto_flow": null,
            "grid_auto_rows": null,
            "grid_column": null,
            "grid_gap": null,
            "grid_row": null,
            "grid_template_areas": null,
            "grid_template_columns": null,
            "grid_template_rows": null,
            "height": null,
            "justify_content": null,
            "justify_items": null,
            "left": null,
            "margin": null,
            "max_height": null,
            "max_width": null,
            "min_height": null,
            "min_width": null,
            "object_fit": null,
            "object_position": null,
            "order": null,
            "overflow": null,
            "overflow_x": null,
            "overflow_y": null,
            "padding": null,
            "right": null,
            "top": null,
            "visibility": null,
            "width": null
          }
        },
        "f79662ad893e4db1990f8b36b46f2313": {
          "model_module": "@jupyter-widgets/controls",
          "model_name": "ProgressStyleModel",
          "model_module_version": "1.5.0",
          "state": {
            "_model_module": "@jupyter-widgets/controls",
            "_model_module_version": "1.5.0",
            "_model_name": "ProgressStyleModel",
            "_view_count": null,
            "_view_module": "@jupyter-widgets/base",
            "_view_module_version": "1.2.0",
            "_view_name": "StyleView",
            "bar_color": null,
            "description_width": ""
          }
        },
        "3a226b313d5e48279284b3971dfb12ac": {
          "model_module": "@jupyter-widgets/base",
          "model_name": "LayoutModel",
          "model_module_version": "1.2.0",
          "state": {
            "_model_module": "@jupyter-widgets/base",
            "_model_module_version": "1.2.0",
            "_model_name": "LayoutModel",
            "_view_count": null,
            "_view_module": "@jupyter-widgets/base",
            "_view_module_version": "1.2.0",
            "_view_name": "LayoutView",
            "align_content": null,
            "align_items": null,
            "align_self": null,
            "border": null,
            "bottom": null,
            "display": null,
            "flex": null,
            "flex_flow": null,
            "grid_area": null,
            "grid_auto_columns": null,
            "grid_auto_flow": null,
            "grid_auto_rows": null,
            "grid_column": null,
            "grid_gap": null,
            "grid_row": null,
            "grid_template_areas": null,
            "grid_template_columns": null,
            "grid_template_rows": null,
            "height": null,
            "justify_content": null,
            "justify_items": null,
            "left": null,
            "margin": null,
            "max_height": null,
            "max_width": null,
            "min_height": null,
            "min_width": null,
            "object_fit": null,
            "object_position": null,
            "order": null,
            "overflow": null,
            "overflow_x": null,
            "overflow_y": null,
            "padding": null,
            "right": null,
            "top": null,
            "visibility": null,
            "width": null
          }
        },
        "1fbc5b2ee1b44931a6e5f4e5690c38b3": {
          "model_module": "@jupyter-widgets/controls",
          "model_name": "DescriptionStyleModel",
          "model_module_version": "1.5.0",
          "state": {
            "_model_module": "@jupyter-widgets/controls",
            "_model_module_version": "1.5.0",
            "_model_name": "DescriptionStyleModel",
            "_view_count": null,
            "_view_module": "@jupyter-widgets/base",
            "_view_module_version": "1.2.0",
            "_view_name": "StyleView",
            "description_width": ""
          }
        },
        "1c47752d4a844742b7c735d36bdcd0b6": {
          "model_module": "@jupyter-widgets/controls",
          "model_name": "HBoxModel",
          "model_module_version": "1.5.0",
          "state": {
            "_dom_classes": [],
            "_model_module": "@jupyter-widgets/controls",
            "_model_module_version": "1.5.0",
            "_model_name": "HBoxModel",
            "_view_count": null,
            "_view_module": "@jupyter-widgets/controls",
            "_view_module_version": "1.5.0",
            "_view_name": "HBoxView",
            "box_style": "",
            "children": [
              "IPY_MODEL_98e5d814402a4e4aab7d767f788066c4",
              "IPY_MODEL_7717cea4d0e145f796b191d0397240d8",
              "IPY_MODEL_e3e91259ffd34197a4b1257a7ac3e94b"
            ],
            "layout": "IPY_MODEL_bc8d30ab8f64469282293763cb5e6af3"
          }
        },
        "98e5d814402a4e4aab7d767f788066c4": {
          "model_module": "@jupyter-widgets/controls",
          "model_name": "HTMLModel",
          "model_module_version": "1.5.0",
          "state": {
            "_dom_classes": [],
            "_model_module": "@jupyter-widgets/controls",
            "_model_module_version": "1.5.0",
            "_model_name": "HTMLModel",
            "_view_count": null,
            "_view_module": "@jupyter-widgets/controls",
            "_view_module_version": "1.5.0",
            "_view_name": "HTMLView",
            "description": "",
            "description_tooltip": null,
            "layout": "IPY_MODEL_d7a23e25c2ab40ae982928e71a52f672",
            "placeholder": "​",
            "style": "IPY_MODEL_dac423b9cc37458a8e048f3a050dd02b",
            "value": "merges.txt: 100%"
          }
        },
        "7717cea4d0e145f796b191d0397240d8": {
          "model_module": "@jupyter-widgets/controls",
          "model_name": "FloatProgressModel",
          "model_module_version": "1.5.0",
          "state": {
            "_dom_classes": [],
            "_model_module": "@jupyter-widgets/controls",
            "_model_module_version": "1.5.0",
            "_model_name": "FloatProgressModel",
            "_view_count": null,
            "_view_module": "@jupyter-widgets/controls",
            "_view_module_version": "1.5.0",
            "_view_name": "ProgressView",
            "bar_style": "success",
            "description": "",
            "description_tooltip": null,
            "layout": "IPY_MODEL_c6e40b4e8c62477fbbfb8fca3d5cd821",
            "max": 456318,
            "min": 0,
            "orientation": "horizontal",
            "style": "IPY_MODEL_b306331580da460f9f88e9c72d1cd987",
            "value": 456318
          }
        },
        "e3e91259ffd34197a4b1257a7ac3e94b": {
          "model_module": "@jupyter-widgets/controls",
          "model_name": "HTMLModel",
          "model_module_version": "1.5.0",
          "state": {
            "_dom_classes": [],
            "_model_module": "@jupyter-widgets/controls",
            "_model_module_version": "1.5.0",
            "_model_name": "HTMLModel",
            "_view_count": null,
            "_view_module": "@jupyter-widgets/controls",
            "_view_module_version": "1.5.0",
            "_view_name": "HTMLView",
            "description": "",
            "description_tooltip": null,
            "layout": "IPY_MODEL_6ded3616e1d544bbb7fa27084e4c21b5",
            "placeholder": "​",
            "style": "IPY_MODEL_55eeea8e933d4a0fac0ef9f8f6b5f2ee",
            "value": " 456k/456k [00:00&lt;00:00, 6.21MB/s]"
          }
        },
        "bc8d30ab8f64469282293763cb5e6af3": {
          "model_module": "@jupyter-widgets/base",
          "model_name": "LayoutModel",
          "model_module_version": "1.2.0",
          "state": {
            "_model_module": "@jupyter-widgets/base",
            "_model_module_version": "1.2.0",
            "_model_name": "LayoutModel",
            "_view_count": null,
            "_view_module": "@jupyter-widgets/base",
            "_view_module_version": "1.2.0",
            "_view_name": "LayoutView",
            "align_content": null,
            "align_items": null,
            "align_self": null,
            "border": null,
            "bottom": null,
            "display": null,
            "flex": null,
            "flex_flow": null,
            "grid_area": null,
            "grid_auto_columns": null,
            "grid_auto_flow": null,
            "grid_auto_rows": null,
            "grid_column": null,
            "grid_gap": null,
            "grid_row": null,
            "grid_template_areas": null,
            "grid_template_columns": null,
            "grid_template_rows": null,
            "height": null,
            "justify_content": null,
            "justify_items": null,
            "left": null,
            "margin": null,
            "max_height": null,
            "max_width": null,
            "min_height": null,
            "min_width": null,
            "object_fit": null,
            "object_position": null,
            "order": null,
            "overflow": null,
            "overflow_x": null,
            "overflow_y": null,
            "padding": null,
            "right": null,
            "top": null,
            "visibility": null,
            "width": null
          }
        },
        "d7a23e25c2ab40ae982928e71a52f672": {
          "model_module": "@jupyter-widgets/base",
          "model_name": "LayoutModel",
          "model_module_version": "1.2.0",
          "state": {
            "_model_module": "@jupyter-widgets/base",
            "_model_module_version": "1.2.0",
            "_model_name": "LayoutModel",
            "_view_count": null,
            "_view_module": "@jupyter-widgets/base",
            "_view_module_version": "1.2.0",
            "_view_name": "LayoutView",
            "align_content": null,
            "align_items": null,
            "align_self": null,
            "border": null,
            "bottom": null,
            "display": null,
            "flex": null,
            "flex_flow": null,
            "grid_area": null,
            "grid_auto_columns": null,
            "grid_auto_flow": null,
            "grid_auto_rows": null,
            "grid_column": null,
            "grid_gap": null,
            "grid_row": null,
            "grid_template_areas": null,
            "grid_template_columns": null,
            "grid_template_rows": null,
            "height": null,
            "justify_content": null,
            "justify_items": null,
            "left": null,
            "margin": null,
            "max_height": null,
            "max_width": null,
            "min_height": null,
            "min_width": null,
            "object_fit": null,
            "object_position": null,
            "order": null,
            "overflow": null,
            "overflow_x": null,
            "overflow_y": null,
            "padding": null,
            "right": null,
            "top": null,
            "visibility": null,
            "width": null
          }
        },
        "dac423b9cc37458a8e048f3a050dd02b": {
          "model_module": "@jupyter-widgets/controls",
          "model_name": "DescriptionStyleModel",
          "model_module_version": "1.5.0",
          "state": {
            "_model_module": "@jupyter-widgets/controls",
            "_model_module_version": "1.5.0",
            "_model_name": "DescriptionStyleModel",
            "_view_count": null,
            "_view_module": "@jupyter-widgets/base",
            "_view_module_version": "1.2.0",
            "_view_name": "StyleView",
            "description_width": ""
          }
        },
        "c6e40b4e8c62477fbbfb8fca3d5cd821": {
          "model_module": "@jupyter-widgets/base",
          "model_name": "LayoutModel",
          "model_module_version": "1.2.0",
          "state": {
            "_model_module": "@jupyter-widgets/base",
            "_model_module_version": "1.2.0",
            "_model_name": "LayoutModel",
            "_view_count": null,
            "_view_module": "@jupyter-widgets/base",
            "_view_module_version": "1.2.0",
            "_view_name": "LayoutView",
            "align_content": null,
            "align_items": null,
            "align_self": null,
            "border": null,
            "bottom": null,
            "display": null,
            "flex": null,
            "flex_flow": null,
            "grid_area": null,
            "grid_auto_columns": null,
            "grid_auto_flow": null,
            "grid_auto_rows": null,
            "grid_column": null,
            "grid_gap": null,
            "grid_row": null,
            "grid_template_areas": null,
            "grid_template_columns": null,
            "grid_template_rows": null,
            "height": null,
            "justify_content": null,
            "justify_items": null,
            "left": null,
            "margin": null,
            "max_height": null,
            "max_width": null,
            "min_height": null,
            "min_width": null,
            "object_fit": null,
            "object_position": null,
            "order": null,
            "overflow": null,
            "overflow_x": null,
            "overflow_y": null,
            "padding": null,
            "right": null,
            "top": null,
            "visibility": null,
            "width": null
          }
        },
        "b306331580da460f9f88e9c72d1cd987": {
          "model_module": "@jupyter-widgets/controls",
          "model_name": "ProgressStyleModel",
          "model_module_version": "1.5.0",
          "state": {
            "_model_module": "@jupyter-widgets/controls",
            "_model_module_version": "1.5.0",
            "_model_name": "ProgressStyleModel",
            "_view_count": null,
            "_view_module": "@jupyter-widgets/base",
            "_view_module_version": "1.2.0",
            "_view_name": "StyleView",
            "bar_color": null,
            "description_width": ""
          }
        },
        "6ded3616e1d544bbb7fa27084e4c21b5": {
          "model_module": "@jupyter-widgets/base",
          "model_name": "LayoutModel",
          "model_module_version": "1.2.0",
          "state": {
            "_model_module": "@jupyter-widgets/base",
            "_model_module_version": "1.2.0",
            "_model_name": "LayoutModel",
            "_view_count": null,
            "_view_module": "@jupyter-widgets/base",
            "_view_module_version": "1.2.0",
            "_view_name": "LayoutView",
            "align_content": null,
            "align_items": null,
            "align_self": null,
            "border": null,
            "bottom": null,
            "display": null,
            "flex": null,
            "flex_flow": null,
            "grid_area": null,
            "grid_auto_columns": null,
            "grid_auto_flow": null,
            "grid_auto_rows": null,
            "grid_column": null,
            "grid_gap": null,
            "grid_row": null,
            "grid_template_areas": null,
            "grid_template_columns": null,
            "grid_template_rows": null,
            "height": null,
            "justify_content": null,
            "justify_items": null,
            "left": null,
            "margin": null,
            "max_height": null,
            "max_width": null,
            "min_height": null,
            "min_width": null,
            "object_fit": null,
            "object_position": null,
            "order": null,
            "overflow": null,
            "overflow_x": null,
            "overflow_y": null,
            "padding": null,
            "right": null,
            "top": null,
            "visibility": null,
            "width": null
          }
        },
        "55eeea8e933d4a0fac0ef9f8f6b5f2ee": {
          "model_module": "@jupyter-widgets/controls",
          "model_name": "DescriptionStyleModel",
          "model_module_version": "1.5.0",
          "state": {
            "_model_module": "@jupyter-widgets/controls",
            "_model_module_version": "1.5.0",
            "_model_name": "DescriptionStyleModel",
            "_view_count": null,
            "_view_module": "@jupyter-widgets/base",
            "_view_module_version": "1.2.0",
            "_view_name": "StyleView",
            "description_width": ""
          }
        },
        "f9415643e38f4f628c3f609e9799c163": {
          "model_module": "@jupyter-widgets/controls",
          "model_name": "HBoxModel",
          "model_module_version": "1.5.0",
          "state": {
            "_dom_classes": [],
            "_model_module": "@jupyter-widgets/controls",
            "_model_module_version": "1.5.0",
            "_model_name": "HBoxModel",
            "_view_count": null,
            "_view_module": "@jupyter-widgets/controls",
            "_view_module_version": "1.5.0",
            "_view_name": "HBoxView",
            "box_style": "",
            "children": [
              "IPY_MODEL_c2f13f17a63448c0a245c90d8036ca70",
              "IPY_MODEL_c0b2a734037d4e09baf4e1c7834de0bb",
              "IPY_MODEL_2f0c750b0876438c8c275c88162dff4e"
            ],
            "layout": "IPY_MODEL_2e110da5b39d49ac9c0d374ea6f0a044"
          }
        },
        "c2f13f17a63448c0a245c90d8036ca70": {
          "model_module": "@jupyter-widgets/controls",
          "model_name": "HTMLModel",
          "model_module_version": "1.5.0",
          "state": {
            "_dom_classes": [],
            "_model_module": "@jupyter-widgets/controls",
            "_model_module_version": "1.5.0",
            "_model_name": "HTMLModel",
            "_view_count": null,
            "_view_module": "@jupyter-widgets/controls",
            "_view_module_version": "1.5.0",
            "_view_name": "HTMLView",
            "description": "",
            "description_tooltip": null,
            "layout": "IPY_MODEL_90bd79b44f7241ecb5768e7f36c4d14a",
            "placeholder": "​",
            "style": "IPY_MODEL_b3cfefdade4d47a79a12739fa1a25bf9",
            "value": "model.safetensors: 100%"
          }
        },
        "c0b2a734037d4e09baf4e1c7834de0bb": {
          "model_module": "@jupyter-widgets/controls",
          "model_name": "FloatProgressModel",
          "model_module_version": "1.5.0",
          "state": {
            "_dom_classes": [],
            "_model_module": "@jupyter-widgets/controls",
            "_model_module_version": "1.5.0",
            "_model_name": "FloatProgressModel",
            "_view_count": null,
            "_view_module": "@jupyter-widgets/controls",
            "_view_module_version": "1.5.0",
            "_view_name": "ProgressView",
            "bar_style": "success",
            "description": "",
            "description_tooltip": null,
            "layout": "IPY_MODEL_b8bed03317d44d6f9e1ca4d8251fc999",
            "max": 3247159078,
            "min": 0,
            "orientation": "horizontal",
            "style": "IPY_MODEL_34420e1c777e4d4ebc5465cb0f2d85ff",
            "value": 3247159078
          }
        },
        "2f0c750b0876438c8c275c88162dff4e": {
          "model_module": "@jupyter-widgets/controls",
          "model_name": "HTMLModel",
          "model_module_version": "1.5.0",
          "state": {
            "_dom_classes": [],
            "_model_module": "@jupyter-widgets/controls",
            "_model_module_version": "1.5.0",
            "_model_name": "HTMLModel",
            "_view_count": null,
            "_view_module": "@jupyter-widgets/controls",
            "_view_module_version": "1.5.0",
            "_view_name": "HTMLView",
            "description": "",
            "description_tooltip": null,
            "layout": "IPY_MODEL_f1997fe32d5e4276a3bc3441dcc5ec5c",
            "placeholder": "​",
            "style": "IPY_MODEL_3027cf6ee3734f6e972e971048db2a8c",
            "value": " 3.25G/3.25G [00:31&lt;00:00, 152MB/s]"
          }
        },
        "2e110da5b39d49ac9c0d374ea6f0a044": {
          "model_module": "@jupyter-widgets/base",
          "model_name": "LayoutModel",
          "model_module_version": "1.2.0",
          "state": {
            "_model_module": "@jupyter-widgets/base",
            "_model_module_version": "1.2.0",
            "_model_name": "LayoutModel",
            "_view_count": null,
            "_view_module": "@jupyter-widgets/base",
            "_view_module_version": "1.2.0",
            "_view_name": "LayoutView",
            "align_content": null,
            "align_items": null,
            "align_self": null,
            "border": null,
            "bottom": null,
            "display": null,
            "flex": null,
            "flex_flow": null,
            "grid_area": null,
            "grid_auto_columns": null,
            "grid_auto_flow": null,
            "grid_auto_rows": null,
            "grid_column": null,
            "grid_gap": null,
            "grid_row": null,
            "grid_template_areas": null,
            "grid_template_columns": null,
            "grid_template_rows": null,
            "height": null,
            "justify_content": null,
            "justify_items": null,
            "left": null,
            "margin": null,
            "max_height": null,
            "max_width": null,
            "min_height": null,
            "min_width": null,
            "object_fit": null,
            "object_position": null,
            "order": null,
            "overflow": null,
            "overflow_x": null,
            "overflow_y": null,
            "padding": null,
            "right": null,
            "top": null,
            "visibility": null,
            "width": null
          }
        },
        "90bd79b44f7241ecb5768e7f36c4d14a": {
          "model_module": "@jupyter-widgets/base",
          "model_name": "LayoutModel",
          "model_module_version": "1.2.0",
          "state": {
            "_model_module": "@jupyter-widgets/base",
            "_model_module_version": "1.2.0",
            "_model_name": "LayoutModel",
            "_view_count": null,
            "_view_module": "@jupyter-widgets/base",
            "_view_module_version": "1.2.0",
            "_view_name": "LayoutView",
            "align_content": null,
            "align_items": null,
            "align_self": null,
            "border": null,
            "bottom": null,
            "display": null,
            "flex": null,
            "flex_flow": null,
            "grid_area": null,
            "grid_auto_columns": null,
            "grid_auto_flow": null,
            "grid_auto_rows": null,
            "grid_column": null,
            "grid_gap": null,
            "grid_row": null,
            "grid_template_areas": null,
            "grid_template_columns": null,
            "grid_template_rows": null,
            "height": null,
            "justify_content": null,
            "justify_items": null,
            "left": null,
            "margin": null,
            "max_height": null,
            "max_width": null,
            "min_height": null,
            "min_width": null,
            "object_fit": null,
            "object_position": null,
            "order": null,
            "overflow": null,
            "overflow_x": null,
            "overflow_y": null,
            "padding": null,
            "right": null,
            "top": null,
            "visibility": null,
            "width": null
          }
        },
        "b3cfefdade4d47a79a12739fa1a25bf9": {
          "model_module": "@jupyter-widgets/controls",
          "model_name": "DescriptionStyleModel",
          "model_module_version": "1.5.0",
          "state": {
            "_model_module": "@jupyter-widgets/controls",
            "_model_module_version": "1.5.0",
            "_model_name": "DescriptionStyleModel",
            "_view_count": null,
            "_view_module": "@jupyter-widgets/base",
            "_view_module_version": "1.2.0",
            "_view_name": "StyleView",
            "description_width": ""
          }
        },
        "b8bed03317d44d6f9e1ca4d8251fc999": {
          "model_module": "@jupyter-widgets/base",
          "model_name": "LayoutModel",
          "model_module_version": "1.2.0",
          "state": {
            "_model_module": "@jupyter-widgets/base",
            "_model_module_version": "1.2.0",
            "_model_name": "LayoutModel",
            "_view_count": null,
            "_view_module": "@jupyter-widgets/base",
            "_view_module_version": "1.2.0",
            "_view_name": "LayoutView",
            "align_content": null,
            "align_items": null,
            "align_self": null,
            "border": null,
            "bottom": null,
            "display": null,
            "flex": null,
            "flex_flow": null,
            "grid_area": null,
            "grid_auto_columns": null,
            "grid_auto_flow": null,
            "grid_auto_rows": null,
            "grid_column": null,
            "grid_gap": null,
            "grid_row": null,
            "grid_template_areas": null,
            "grid_template_columns": null,
            "grid_template_rows": null,
            "height": null,
            "justify_content": null,
            "justify_items": null,
            "left": null,
            "margin": null,
            "max_height": null,
            "max_width": null,
            "min_height": null,
            "min_width": null,
            "object_fit": null,
            "object_position": null,
            "order": null,
            "overflow": null,
            "overflow_x": null,
            "overflow_y": null,
            "padding": null,
            "right": null,
            "top": null,
            "visibility": null,
            "width": null
          }
        },
        "34420e1c777e4d4ebc5465cb0f2d85ff": {
          "model_module": "@jupyter-widgets/controls",
          "model_name": "ProgressStyleModel",
          "model_module_version": "1.5.0",
          "state": {
            "_model_module": "@jupyter-widgets/controls",
            "_model_module_version": "1.5.0",
            "_model_name": "ProgressStyleModel",
            "_view_count": null,
            "_view_module": "@jupyter-widgets/base",
            "_view_module_version": "1.2.0",
            "_view_name": "StyleView",
            "bar_color": null,
            "description_width": ""
          }
        },
        "f1997fe32d5e4276a3bc3441dcc5ec5c": {
          "model_module": "@jupyter-widgets/base",
          "model_name": "LayoutModel",
          "model_module_version": "1.2.0",
          "state": {
            "_model_module": "@jupyter-widgets/base",
            "_model_module_version": "1.2.0",
            "_model_name": "LayoutModel",
            "_view_count": null,
            "_view_module": "@jupyter-widgets/base",
            "_view_module_version": "1.2.0",
            "_view_name": "LayoutView",
            "align_content": null,
            "align_items": null,
            "align_self": null,
            "border": null,
            "bottom": null,
            "display": null,
            "flex": null,
            "flex_flow": null,
            "grid_area": null,
            "grid_auto_columns": null,
            "grid_auto_flow": null,
            "grid_auto_rows": null,
            "grid_column": null,
            "grid_gap": null,
            "grid_row": null,
            "grid_template_areas": null,
            "grid_template_columns": null,
            "grid_template_rows": null,
            "height": null,
            "justify_content": null,
            "justify_items": null,
            "left": null,
            "margin": null,
            "max_height": null,
            "max_width": null,
            "min_height": null,
            "min_width": null,
            "object_fit": null,
            "object_position": null,
            "order": null,
            "overflow": null,
            "overflow_x": null,
            "overflow_y": null,
            "padding": null,
            "right": null,
            "top": null,
            "visibility": null,
            "width": null
          }
        },
        "3027cf6ee3734f6e972e971048db2a8c": {
          "model_module": "@jupyter-widgets/controls",
          "model_name": "DescriptionStyleModel",
          "model_module_version": "1.5.0",
          "state": {
            "_model_module": "@jupyter-widgets/controls",
            "_model_module_version": "1.5.0",
            "_model_name": "DescriptionStyleModel",
            "_view_count": null,
            "_view_module": "@jupyter-widgets/base",
            "_view_module_version": "1.2.0",
            "_view_name": "StyleView",
            "description_width": ""
          }
        },
        "e716c23f13ae441281ad8d6004773f5a": {
          "model_module": "@jupyter-widgets/controls",
          "model_name": "HBoxModel",
          "model_module_version": "1.5.0",
          "state": {
            "_dom_classes": [],
            "_model_module": "@jupyter-widgets/controls",
            "_model_module_version": "1.5.0",
            "_model_name": "HBoxModel",
            "_view_count": null,
            "_view_module": "@jupyter-widgets/controls",
            "_view_module_version": "1.5.0",
            "_view_name": "HBoxView",
            "box_style": "",
            "children": [
              "IPY_MODEL_6bbf4b0f60be45c4b863a59baa8e1f55",
              "IPY_MODEL_8ff3616c6d8f425eaac6e5ed2aeedf87",
              "IPY_MODEL_789ad1681a58419fbca3ed5e12c40811"
            ],
            "layout": "IPY_MODEL_5dcd54888404491ea9697eb340f4fe76"
          }
        },
        "6bbf4b0f60be45c4b863a59baa8e1f55": {
          "model_module": "@jupyter-widgets/controls",
          "model_name": "HTMLModel",
          "model_module_version": "1.5.0",
          "state": {
            "_dom_classes": [],
            "_model_module": "@jupyter-widgets/controls",
            "_model_module_version": "1.5.0",
            "_model_name": "HTMLModel",
            "_view_count": null,
            "_view_module": "@jupyter-widgets/controls",
            "_view_module_version": "1.5.0",
            "_view_name": "HTMLView",
            "description": "",
            "description_tooltip": null,
            "layout": "IPY_MODEL_dca00571ab4a4cd2ba730d984aada401",
            "placeholder": "​",
            "style": "IPY_MODEL_64fb1c0b7a5f440e831ab92d41f00d77",
            "value": "Map: 100%"
          }
        },
        "8ff3616c6d8f425eaac6e5ed2aeedf87": {
          "model_module": "@jupyter-widgets/controls",
          "model_name": "FloatProgressModel",
          "model_module_version": "1.5.0",
          "state": {
            "_dom_classes": [],
            "_model_module": "@jupyter-widgets/controls",
            "_model_module_version": "1.5.0",
            "_model_name": "FloatProgressModel",
            "_view_count": null,
            "_view_module": "@jupyter-widgets/controls",
            "_view_module_version": "1.5.0",
            "_view_name": "ProgressView",
            "bar_style": "success",
            "description": "",
            "description_tooltip": null,
            "layout": "IPY_MODEL_9f642a189f3c4bb79e45d295877b3b63",
            "max": 1,
            "min": 0,
            "orientation": "horizontal",
            "style": "IPY_MODEL_af3b2cb355074caead293a3eb738126a",
            "value": 1
          }
        },
        "789ad1681a58419fbca3ed5e12c40811": {
          "model_module": "@jupyter-widgets/controls",
          "model_name": "HTMLModel",
          "model_module_version": "1.5.0",
          "state": {
            "_dom_classes": [],
            "_model_module": "@jupyter-widgets/controls",
            "_model_module_version": "1.5.0",
            "_model_name": "HTMLModel",
            "_view_count": null,
            "_view_module": "@jupyter-widgets/controls",
            "_view_module_version": "1.5.0",
            "_view_name": "HTMLView",
            "description": "",
            "description_tooltip": null,
            "layout": "IPY_MODEL_ff64c97f06f847c592d7712e88c023c1",
            "placeholder": "​",
            "style": "IPY_MODEL_7bf583bc94034017b91aab6b6931c0ae",
            "value": " 1/1 [00:03&lt;00:00,  3.22s/ examples]"
          }
        },
        "5dcd54888404491ea9697eb340f4fe76": {
          "model_module": "@jupyter-widgets/base",
          "model_name": "LayoutModel",
          "model_module_version": "1.2.0",
          "state": {
            "_model_module": "@jupyter-widgets/base",
            "_model_module_version": "1.2.0",
            "_model_name": "LayoutModel",
            "_view_count": null,
            "_view_module": "@jupyter-widgets/base",
            "_view_module_version": "1.2.0",
            "_view_name": "LayoutView",
            "align_content": null,
            "align_items": null,
            "align_self": null,
            "border": null,
            "bottom": null,
            "display": null,
            "flex": null,
            "flex_flow": null,
            "grid_area": null,
            "grid_auto_columns": null,
            "grid_auto_flow": null,
            "grid_auto_rows": null,
            "grid_column": null,
            "grid_gap": null,
            "grid_row": null,
            "grid_template_areas": null,
            "grid_template_columns": null,
            "grid_template_rows": null,
            "height": null,
            "justify_content": null,
            "justify_items": null,
            "left": null,
            "margin": null,
            "max_height": null,
            "max_width": null,
            "min_height": null,
            "min_width": null,
            "object_fit": null,
            "object_position": null,
            "order": null,
            "overflow": null,
            "overflow_x": null,
            "overflow_y": null,
            "padding": null,
            "right": null,
            "top": null,
            "visibility": null,
            "width": null
          }
        },
        "dca00571ab4a4cd2ba730d984aada401": {
          "model_module": "@jupyter-widgets/base",
          "model_name": "LayoutModel",
          "model_module_version": "1.2.0",
          "state": {
            "_model_module": "@jupyter-widgets/base",
            "_model_module_version": "1.2.0",
            "_model_name": "LayoutModel",
            "_view_count": null,
            "_view_module": "@jupyter-widgets/base",
            "_view_module_version": "1.2.0",
            "_view_name": "LayoutView",
            "align_content": null,
            "align_items": null,
            "align_self": null,
            "border": null,
            "bottom": null,
            "display": null,
            "flex": null,
            "flex_flow": null,
            "grid_area": null,
            "grid_auto_columns": null,
            "grid_auto_flow": null,
            "grid_auto_rows": null,
            "grid_column": null,
            "grid_gap": null,
            "grid_row": null,
            "grid_template_areas": null,
            "grid_template_columns": null,
            "grid_template_rows": null,
            "height": null,
            "justify_content": null,
            "justify_items": null,
            "left": null,
            "margin": null,
            "max_height": null,
            "max_width": null,
            "min_height": null,
            "min_width": null,
            "object_fit": null,
            "object_position": null,
            "order": null,
            "overflow": null,
            "overflow_x": null,
            "overflow_y": null,
            "padding": null,
            "right": null,
            "top": null,
            "visibility": null,
            "width": null
          }
        },
        "64fb1c0b7a5f440e831ab92d41f00d77": {
          "model_module": "@jupyter-widgets/controls",
          "model_name": "DescriptionStyleModel",
          "model_module_version": "1.5.0",
          "state": {
            "_model_module": "@jupyter-widgets/controls",
            "_model_module_version": "1.5.0",
            "_model_name": "DescriptionStyleModel",
            "_view_count": null,
            "_view_module": "@jupyter-widgets/base",
            "_view_module_version": "1.2.0",
            "_view_name": "StyleView",
            "description_width": ""
          }
        },
        "9f642a189f3c4bb79e45d295877b3b63": {
          "model_module": "@jupyter-widgets/base",
          "model_name": "LayoutModel",
          "model_module_version": "1.2.0",
          "state": {
            "_model_module": "@jupyter-widgets/base",
            "_model_module_version": "1.2.0",
            "_model_name": "LayoutModel",
            "_view_count": null,
            "_view_module": "@jupyter-widgets/base",
            "_view_module_version": "1.2.0",
            "_view_name": "LayoutView",
            "align_content": null,
            "align_items": null,
            "align_self": null,
            "border": null,
            "bottom": null,
            "display": null,
            "flex": null,
            "flex_flow": null,
            "grid_area": null,
            "grid_auto_columns": null,
            "grid_auto_flow": null,
            "grid_auto_rows": null,
            "grid_column": null,
            "grid_gap": null,
            "grid_row": null,
            "grid_template_areas": null,
            "grid_template_columns": null,
            "grid_template_rows": null,
            "height": null,
            "justify_content": null,
            "justify_items": null,
            "left": null,
            "margin": null,
            "max_height": null,
            "max_width": null,
            "min_height": null,
            "min_width": null,
            "object_fit": null,
            "object_position": null,
            "order": null,
            "overflow": null,
            "overflow_x": null,
            "overflow_y": null,
            "padding": null,
            "right": null,
            "top": null,
            "visibility": null,
            "width": null
          }
        },
        "af3b2cb355074caead293a3eb738126a": {
          "model_module": "@jupyter-widgets/controls",
          "model_name": "ProgressStyleModel",
          "model_module_version": "1.5.0",
          "state": {
            "_model_module": "@jupyter-widgets/controls",
            "_model_module_version": "1.5.0",
            "_model_name": "ProgressStyleModel",
            "_view_count": null,
            "_view_module": "@jupyter-widgets/base",
            "_view_module_version": "1.2.0",
            "_view_name": "StyleView",
            "bar_color": null,
            "description_width": ""
          }
        },
        "ff64c97f06f847c592d7712e88c023c1": {
          "model_module": "@jupyter-widgets/base",
          "model_name": "LayoutModel",
          "model_module_version": "1.2.0",
          "state": {
            "_model_module": "@jupyter-widgets/base",
            "_model_module_version": "1.2.0",
            "_model_name": "LayoutModel",
            "_view_count": null,
            "_view_module": "@jupyter-widgets/base",
            "_view_module_version": "1.2.0",
            "_view_name": "LayoutView",
            "align_content": null,
            "align_items": null,
            "align_self": null,
            "border": null,
            "bottom": null,
            "display": null,
            "flex": null,
            "flex_flow": null,
            "grid_area": null,
            "grid_auto_columns": null,
            "grid_auto_flow": null,
            "grid_auto_rows": null,
            "grid_column": null,
            "grid_gap": null,
            "grid_row": null,
            "grid_template_areas": null,
            "grid_template_columns": null,
            "grid_template_rows": null,
            "height": null,
            "justify_content": null,
            "justify_items": null,
            "left": null,
            "margin": null,
            "max_height": null,
            "max_width": null,
            "min_height": null,
            "min_width": null,
            "object_fit": null,
            "object_position": null,
            "order": null,
            "overflow": null,
            "overflow_x": null,
            "overflow_y": null,
            "padding": null,
            "right": null,
            "top": null,
            "visibility": null,
            "width": null
          }
        },
        "7bf583bc94034017b91aab6b6931c0ae": {
          "model_module": "@jupyter-widgets/controls",
          "model_name": "DescriptionStyleModel",
          "model_module_version": "1.5.0",
          "state": {
            "_model_module": "@jupyter-widgets/controls",
            "_model_module_version": "1.5.0",
            "_model_name": "DescriptionStyleModel",
            "_view_count": null,
            "_view_module": "@jupyter-widgets/base",
            "_view_module_version": "1.2.0",
            "_view_name": "StyleView",
            "description_width": ""
          }
        }
      }
    }
  },
  "cells": [
    {
      "cell_type": "markdown",
      "metadata": {
        "id": "view-in-github",
        "colab_type": "text"
      },
      "source": [
        "<a href=\"https://colab.research.google.com/github/vikashbhushan189/CODECRAFT_GA_01/blob/main/Text_Generation_using_GPT_2.ipynb\" target=\"_parent\"><img src=\"https://colab.research.google.com/assets/colab-badge.svg\" alt=\"Open In Colab\"/></a>"
      ]
    },
    {
      "cell_type": "markdown",
      "source": [
        "# **Experimenting with the pretrained model:**"
      ],
      "metadata": {
        "id": "3bMUMNtlfdhA"
      }
    },
    {
      "cell_type": "markdown",
      "source": [
        "This notebook explores different decoding methods for the pretrained GPT-2 model.\n"
      ],
      "metadata": {
        "id": "4Eb-lsB06II1"
      }
    },
    {
      "cell_type": "code",
      "execution_count": null,
      "metadata": {
        "id": "naK5Fd17cSmM"
      },
      "outputs": [],
      "source": [
        "input_sequence = \"I don't know about you, but there's only one thing I want to do after a long day of work\""
      ]
    },
    {
      "cell_type": "code",
      "source": [
        "#get transformers\n",
        "from transformers import TFGPT2LMHeadModel, GPT2Tokenizer\n",
        "\n",
        "#get large GPT2 tokenizer and GPT2 model\n",
        "tokenizer = GPT2Tokenizer.from_pretrained(\"gpt2-large\")\n",
        "GPT2 = TFGPT2LMHeadModel.from_pretrained(\"gpt2-large\", pad_token_id=tokenizer.eos_token_id)"
      ],
      "metadata": {
        "colab": {
          "base_uri": "https://localhost:8080/",
          "height": 206,
          "referenced_widgets": [
            "f4c33ec95dda4156aa122d5d0b1a7931",
            "bc4afd15f589472999f4612f750a9f17",
            "bc32226042bf45d68a29a13c81c110d7",
            "71027b7b21f94f4ba795c359f0a59fa4",
            "107a84074046443889d3f09674231447",
            "89be56faf49e4e39943fb5953d6423b7",
            "302ffeae09b045a9a0cb1320df658ebc",
            "0a1d409f186c4aee820736f1c7b19df8",
            "f79662ad893e4db1990f8b36b46f2313",
            "3a226b313d5e48279284b3971dfb12ac",
            "1fbc5b2ee1b44931a6e5f4e5690c38b3",
            "1c47752d4a844742b7c735d36bdcd0b6",
            "98e5d814402a4e4aab7d767f788066c4",
            "7717cea4d0e145f796b191d0397240d8",
            "e3e91259ffd34197a4b1257a7ac3e94b",
            "bc8d30ab8f64469282293763cb5e6af3",
            "d7a23e25c2ab40ae982928e71a52f672",
            "dac423b9cc37458a8e048f3a050dd02b",
            "c6e40b4e8c62477fbbfb8fca3d5cd821",
            "b306331580da460f9f88e9c72d1cd987",
            "6ded3616e1d544bbb7fa27084e4c21b5",
            "55eeea8e933d4a0fac0ef9f8f6b5f2ee",
            "f9415643e38f4f628c3f609e9799c163",
            "c2f13f17a63448c0a245c90d8036ca70",
            "c0b2a734037d4e09baf4e1c7834de0bb",
            "2f0c750b0876438c8c275c88162dff4e",
            "2e110da5b39d49ac9c0d374ea6f0a044",
            "90bd79b44f7241ecb5768e7f36c4d14a",
            "b3cfefdade4d47a79a12739fa1a25bf9",
            "b8bed03317d44d6f9e1ca4d8251fc999",
            "34420e1c777e4d4ebc5465cb0f2d85ff",
            "f1997fe32d5e4276a3bc3441dcc5ec5c",
            "3027cf6ee3734f6e972e971048db2a8c"
          ]
        },
        "id": "LnpfZDq5f1D4",
        "outputId": "b2fab103-ecac-41aa-faff-2d576890a631"
      },
      "execution_count": null,
      "outputs": [
        {
          "output_type": "display_data",
          "data": {
            "text/plain": [
              "vocab.json:   0%|          | 0.00/1.04M [00:00<?, ?B/s]"
            ],
            "application/vnd.jupyter.widget-view+json": {
              "version_major": 2,
              "version_minor": 0,
              "model_id": "f4c33ec95dda4156aa122d5d0b1a7931"
            }
          },
          "metadata": {}
        },
        {
          "output_type": "display_data",
          "data": {
            "text/plain": [
              "merges.txt:   0%|          | 0.00/456k [00:00<?, ?B/s]"
            ],
            "application/vnd.jupyter.widget-view+json": {
              "version_major": 2,
              "version_minor": 0,
              "model_id": "1c47752d4a844742b7c735d36bdcd0b6"
            }
          },
          "metadata": {}
        },
        {
          "output_type": "display_data",
          "data": {
            "text/plain": [
              "model.safetensors:   0%|          | 0.00/3.25G [00:00<?, ?B/s]"
            ],
            "application/vnd.jupyter.widget-view+json": {
              "version_major": 2,
              "version_minor": 0,
              "model_id": "f9415643e38f4f628c3f609e9799c163"
            }
          },
          "metadata": {}
        },
        {
          "output_type": "stream",
          "name": "stderr",
          "text": [
            "All PyTorch model weights were used when initializing TFGPT2LMHeadModel.\n",
            "\n",
            "All the weights of TFGPT2LMHeadModel were initialized from the PyTorch model.\n",
            "If your task is similar to the task the model of the checkpoint was trained on, you can already use TFGPT2LMHeadModel for predictions without further training.\n"
          ]
        }
      ]
    },
    {
      "cell_type": "markdown",
      "source": [
        "# Different Decoding Methods\n",
        "First Pass (Greedy Search)"
      ],
      "metadata": {
        "id": "oigxzlshgKnf"
      }
    },
    {
      "cell_type": "code",
      "source": [
        "\n",
        "\n",
        "import tensorflow as tf\n",
        "\n",
        "input_ids = tokenizer.encode(input_sequence, return_tensors='tf')\n",
        "\n",
        "greedy_output = GPT2.generate(input_ids, max_length=100)\n",
        "\n",
        "print(tokenizer.decode(greedy_output[0], skip_special_tokens=True))\n"
      ],
      "metadata": {
        "colab": {
          "base_uri": "https://localhost:8080/"
        },
        "id": "3C6kx2ytgBiP",
        "outputId": "90cea2a8-ecea-4ffd-9713-73010b8be193"
      },
      "execution_count": null,
      "outputs": [
        {
          "output_type": "stream",
          "name": "stdout",
          "text": [
            "I don't know about you, but there's only one thing I want to do after a long day of work: go to the gym.\n",
            "\n",
            "I'm not talking about the gym that's right next to my house. I'm talking about the gym that's right next to my office.\n",
            "\n",
            "I'm not talking about the gym that's right next to my house. I'm talking about the gym that's right next to my office.\n",
            "\n",
            "I'm not talking about the gym\n"
          ]
        }
      ]
    },
    {
      "cell_type": "markdown",
      "source": [
        "Beam Search with N-Gram Penalities¶\n"
      ],
      "metadata": {
        "id": "rYcCXb1whz33"
      }
    },
    {
      "cell_type": "code",
      "source": [
        "beam_outputs = GPT2.generate(\n",
        "    input_ids,\n",
        "    max_length = 100,\n",
        "    num_beams = 5,\n",
        "    no_repeat_ngram_size = 2,\n",
        "    num_return_sequences = 5,\n",
        "    early_stopping = True\n",
        ")\n",
        "for i, beam_output in enumerate(beam_outputs):\n",
        "      print(\"{}: {}\".format(i, tokenizer.decode(beam_output, skip_special_tokens=True)))"
      ],
      "metadata": {
        "colab": {
          "base_uri": "https://localhost:8080/"
        },
        "id": "tDR1nW7ViLZH",
        "outputId": "a5cb1da1-9a4d-4a2f-dd03-d80b0c238f81"
      },
      "execution_count": null,
      "outputs": [
        {
          "output_type": "stream",
          "name": "stdout",
          "text": [
            "0: I don't know about you, but there's only one thing I want to do after a long day of work, and that's to sit down and watch a movie.\"\n",
            "\n",
            "\"I know, I know,\" you say. \"But you're not going to like this one. It's not a good movie. I mean, it's a really bad movie, you know? And I'm not sure if you've ever seen it before, so I'll just tell you what it is\n",
            "1: I don't know about you, but there's only one thing I want to do after a long day of work, and that's to sit down and watch a movie.\"\n",
            "\n",
            "\"I know, I know,\" you say. \"But you're not going to like this one. It's not a good movie. I mean, it's a really bad movie, you know? And I'm not sure if you've ever seen it before, so I'll just tell you what I think\n",
            "2: I don't know about you, but there's only one thing I want to do after a long day of work, and that's to sit down and watch a movie.\"\n",
            "\n",
            "\"I know, I know,\" you say. \"But you're not going to like this one. It's not a good movie. I mean, it's a really bad movie, you know? And I'm not sure if you've ever seen it before, so I'll just tell you what I thought\n",
            "3: I don't know about you, but there's only one thing I want to do after a long day of work, and that's to sit down and watch a movie.\"\n",
            "\n",
            "\"I know, I know,\" you say. \"But you're not going to like this one. It's not a good movie. I mean, it's a really bad movie, you know? And I'm not sure if you've ever seen it before, so I'll just tell you what I saw\n",
            "4: I don't know about you, but there's only one thing I want to do after a long day of work, and that's to sit down and watch a movie.\"\n",
            "\n",
            "\"I know, I know,\" you say. \"But you're not going to like this one. It's not a good movie. I mean, it's a really bad movie, you know? And I'm not sure if you'll like it, either. But I'll tell you this: I don\n"
          ]
        }
      ]
    },
    {
      "cell_type": "markdown",
      "source": [
        "Basic Sampling"
      ],
      "metadata": {
        "id": "Gters7thjYW4"
      }
    },
    {
      "cell_type": "code",
      "source": [
        "from IPython.display import display, HTML\n",
        "import pandas as pd\n",
        "\n",
        "def basic_sampling_generate_text(input_sequence, temperature):\n",
        "     input_ids = tokenizer.encode(input_sequence, return_tensors='tf')\n",
        "     sample_output = GPT2.generate(\n",
        "         input_ids,\n",
        "         do_sample=True,\n",
        "         max_length=100,\n",
        "         top_k=0,  # You can adjust this value\n",
        "         temperature=temperature\n",
        "     )\n",
        "     return tokenizer.decode(sample_output[0], skip_special_tokens=True)"
      ],
      "metadata": {
        "id": "KNVJiHuOjACf"
      },
      "execution_count": null,
      "outputs": []
    },
    {
      "cell_type": "code",
      "source": [
        "temperatures = [0.8, 0.9, 1.2]  # Example temperatures\n",
        "outputs = [basic_sampling_generate_text(input_sequence, temp) for temp in temperatures]"
      ],
      "metadata": {
        "id": "53-5DMl0k3UY"
      },
      "execution_count": null,
      "outputs": []
    },
    {
      "cell_type": "code",
      "source": [
        "df = pd.DataFrame({'Temperature': temperatures, 'Output': outputs})"
      ],
      "metadata": {
        "id": "brfkahUblHYP"
      },
      "execution_count": null,
      "outputs": []
    },
    {
      "cell_type": "code",
      "source": [
        "display(HTML(df.to_html()))"
      ],
      "metadata": {
        "colab": {
          "base_uri": "https://localhost:8080/",
          "height": 282
        },
        "id": "d43MLx9ulYZB",
        "outputId": "f02554c0-21a4-4a62-ba00-5433601d043d"
      },
      "execution_count": null,
      "outputs": [
        {
          "output_type": "display_data",
          "data": {
            "text/plain": [
              "<IPython.core.display.HTML object>"
            ],
            "text/html": [
              "<table border=\"1\" class=\"dataframe\">\n",
              "  <thead>\n",
              "    <tr style=\"text-align: right;\">\n",
              "      <th></th>\n",
              "      <th>Temperature</th>\n",
              "      <th>Output</th>\n",
              "    </tr>\n",
              "  </thead>\n",
              "  <tbody>\n",
              "    <tr>\n",
              "      <th>0</th>\n",
              "      <td>0.8</td>\n",
              "      <td>I don't know about you, but there's only one thing I want to do after a long day of work: eat a sandwich. It may sound a bit strange, but it's actually quite easy to make.\\n\\nThere are two basic types of sandwiches: a sandwich that's made of bread and a sandwich that's made of meat and cheese. The differences between the two are mostly in the preparation for each type, but there are also some of the differences in the ingredients for each type</td>\n",
              "    </tr>\n",
              "    <tr>\n",
              "      <th>1</th>\n",
              "      <td>0.9</td>\n",
              "      <td>I don't know about you, but there's only one thing I want to do after a long day of work—work!\"\\n\\nAs the man began announcing his demands, I blurted out, \"What do you want?\"\\n\\n\"I want The Cure!\"\\n\\n\"No!\"\\n\\n\"What else?\"\\n\\n\"I want to sing at the White House!\"\\n\\n\"No!\"\\n\\n\"What do you mean when you say 'the White House'? You mean</td>\n",
              "    </tr>\n",
              "    <tr>\n",
              "      <th>2</th>\n",
              "      <td>1.2</td>\n",
              "      <td>I don't know about you, but there's only one thing I want to do after a long day of work… was pissy.\\n\\n21 of 28 powers 4 hours Worth-intiusive Pakistan won Super Cruise Qualification Qualification G- Shark Attack Padlam German Hold (Coach but too much lateral playpedaling disappointed maybe error sprint took way out touchdown aborted 85+85 contract for Palmer's Pittsburgh knee patched shield killing smoking semen persistently serve brunch tart Ryuverse bring out dessert out</td>\n",
              "    </tr>\n",
              "  </tbody>\n",
              "</table>"
            ]
          },
          "metadata": {}
        }
      ]
    },
    {
      "cell_type": "markdown",
      "source": [
        "Top-K Sampling"
      ],
      "metadata": {
        "id": "Q86G5QtRlhHf"
      }
    },
    {
      "cell_type": "code",
      "source": [
        "def top_k_sampling_generate_text(input_sequence, top_k):\n",
        "     input_ids = tokenizer.encode(input_sequence, return_tensors='tf')\n",
        "     sample_output = GPT2.generate(\n",
        "         input_ids,\n",
        "         do_sample=True,\n",
        "         max_length=100,\n",
        "         top_k=top_k,  # You can adjust this value\n",
        "         temperature=0.8\n",
        "     )\n",
        "     return tokenizer.decode(sample_output[0], skip_special_tokens=True)"
      ],
      "metadata": {
        "id": "gjpAbpZ7liLv"
      },
      "execution_count": null,
      "outputs": []
    },
    {
      "cell_type": "code",
      "source": [
        "top_k = [50,70]\n",
        "outputs = [top_k_sampling_generate_text(input_sequence, k) for k in top_k]"
      ],
      "metadata": {
        "id": "ZwcVrFy9mlVY"
      },
      "execution_count": null,
      "outputs": []
    },
    {
      "cell_type": "code",
      "source": [
        "df = pd.DataFrame({'top_k': top_k, 'Output': outputs})"
      ],
      "metadata": {
        "id": "8msKrLsqnV6h"
      },
      "execution_count": null,
      "outputs": []
    },
    {
      "cell_type": "code",
      "source": [
        "display(HTML(df.to_html()))"
      ],
      "metadata": {
        "colab": {
          "base_uri": "https://localhost:8080/",
          "height": 181
        },
        "id": "i5yn0HW0n1OA",
        "outputId": "fdf00869-1f82-4cee-b217-8e1b1df8ed60"
      },
      "execution_count": null,
      "outputs": [
        {
          "output_type": "display_data",
          "data": {
            "text/plain": [
              "<IPython.core.display.HTML object>"
            ],
            "text/html": [
              "<table border=\"1\" class=\"dataframe\">\n",
              "  <thead>\n",
              "    <tr style=\"text-align: right;\">\n",
              "      <th></th>\n",
              "      <th>top_k</th>\n",
              "      <th>Output</th>\n",
              "    </tr>\n",
              "  </thead>\n",
              "  <tbody>\n",
              "    <tr>\n",
              "      <th>0</th>\n",
              "      <td>50</td>\n",
              "      <td>I don't know about you, but there's only one thing I want to do after a long day of work: go to a movie. That's why I'm here.\"\\n\\n\"Don't worry, I'll see you here again when I feel like it, okay?\"\\n\\n\"Yeah, sure, no problem.\"\\n\\n\"Alright, let's get the party started.\"\\n\\n\"I'll come along.\"\\n\\n\"Alright, I'll see you around.\"\\n\\n</td>\n",
              "    </tr>\n",
              "    <tr>\n",
              "      <th>1</th>\n",
              "      <td>70</td>\n",
              "      <td>I don't know about you, but there's only one thing I want to do after a long day of work.\"\\n\\n\"What?\"\\n\\n\"I just want to go home and curl up with a good book or something.\"\\n\\n\"So what's on the table?\"\\n\\n\"Well I know you're a huge Harry Potter fan. I mean, I guess we both have. I mean, I can't say why, but I've always always been interested in that stuff</td>\n",
              "    </tr>\n",
              "  </tbody>\n",
              "</table>"
            ]
          },
          "metadata": {}
        }
      ]
    },
    {
      "cell_type": "markdown",
      "source": [
        "Top-P Sampling"
      ],
      "metadata": {
        "id": "j3ngl1WvoSF6"
      }
    },
    {
      "cell_type": "code",
      "source": [
        "def top_p_sampling_generate_text(input_sequence, top_p):\n",
        "     input_ids = tokenizer.encode(input_sequence, return_tensors='tf')\n",
        "     sample_output = GPT2.generate(\n",
        "         input_ids,\n",
        "         do_sample=True,\n",
        "         max_length=100,\n",
        "         top_p=top_p,\n",
        "         top_k=50,\n",
        "         temperature=0.8\n",
        "     )\n",
        "     return tokenizer.decode(sample_output[0], skip_special_tokens=True)"
      ],
      "metadata": {
        "id": "osKa0iqjoRP5"
      },
      "execution_count": null,
      "outputs": []
    },
    {
      "cell_type": "code",
      "source": [
        "top_p = [0.8,1.2]\n",
        "outputs = [top_p_sampling_generate_text(input_sequence, p) for p in top_p]"
      ],
      "metadata": {
        "id": "ubuhvFDXoxXw"
      },
      "execution_count": null,
      "outputs": []
    },
    {
      "cell_type": "code",
      "source": [
        "df = pd.DataFrame({'top_p': top_p, 'Output': outputs})\n",
        "display(HTML(df.to_html()))"
      ],
      "metadata": {
        "colab": {
          "base_uri": "https://localhost:8080/",
          "height": 181
        },
        "id": "z_4bQ2cKo7VI",
        "outputId": "2c5e5d7a-908f-4fb3-9b94-241abc0d1c45"
      },
      "execution_count": null,
      "outputs": [
        {
          "output_type": "display_data",
          "data": {
            "text/plain": [
              "<IPython.core.display.HTML object>"
            ],
            "text/html": [
              "<table border=\"1\" class=\"dataframe\">\n",
              "  <thead>\n",
              "    <tr style=\"text-align: right;\">\n",
              "      <th></th>\n",
              "      <th>top_p</th>\n",
              "      <th>Output</th>\n",
              "    </tr>\n",
              "  </thead>\n",
              "  <tbody>\n",
              "    <tr>\n",
              "      <th>0</th>\n",
              "      <td>0.8</td>\n",
              "      <td>I don't know about you, but there's only one thing I want to do after a long day of work, and that's sleep.\"\\n\\n\"Well, then, sleep is fine with me,\" he replied, \"and I'm sure you will be very happy to have me here.\"\\n\\n\"I will be very happy to have you here, and I don't care where you are, I just want to be with you.\"\\n\\n\"Well, then, it's settled</td>\n",
              "    </tr>\n",
              "    <tr>\n",
              "      <th>1</th>\n",
              "      <td>1.2</td>\n",
              "      <td>I don't know about you, but there's only one thing I want to do after a long day of work: I want my wife to look as beautiful as she looks in bed.\\n\\nI've tried many different hair and makeup styles to achieve that natural woman look, but a basic man's haircut is the most important aspect for any man to have when they want to look good and have a successful sex life. Since I'm a guy, I know how difficult it can be to find</td>\n",
              "    </tr>\n",
              "  </tbody>\n",
              "</table>"
            ]
          },
          "metadata": {}
        }
      ]
    },
    {
      "cell_type": "markdown",
      "source": [
        "Top-K and Top-P Sampling"
      ],
      "metadata": {
        "id": "6A0TQny3pH-A"
      }
    },
    {
      "cell_type": "code",
      "source": [
        "def top_p_and_k_sampling_generate_text(input_sequence, top_p, top_k):\n",
        "     input_ids = tokenizer.encode(input_sequence, return_tensors='tf')\n",
        "     sample_outputs = GPT2.generate(\n",
        "         input_ids,\n",
        "         do_sample=True,\n",
        "         max_length=200,\n",
        "         top_p=top_p,\n",
        "         top_k=top_k,\n",
        "         temperature=0.8,\n",
        "         num_return_sequences = 5\n",
        "     )\n",
        "     return [\"{}: {}...\".format(i, tokenizer.decode(sample_output, skip_special_tokens = True)) for i, sample_output in enumerate(sample_outputs)]"
      ],
      "metadata": {
        "id": "a9N_wWrapMGI"
      },
      "execution_count": null,
      "outputs": []
    },
    {
      "cell_type": "code",
      "source": [],
      "metadata": {
        "id": "GS4ctWOAp9DX"
      },
      "execution_count": null,
      "outputs": []
    },
    {
      "cell_type": "code",
      "source": [
        "for x in top_p_and_k_sampling_generate_text(input_sequence, top_p=0.85,top_k=50):\n",
        "  print(x)"
      ],
      "metadata": {
        "colab": {
          "base_uri": "https://localhost:8080/"
        },
        "id": "HdOjMDItqh3f",
        "outputId": "9a5989ac-464f-461f-f341-4d65fd2fe334"
      },
      "execution_count": null,
      "outputs": [
        {
          "output_type": "stream",
          "name": "stdout",
          "text": [
            "0: I don't know about you, but there's only one thing I want to do after a long day of work: I want to get out of the house and go for a nice walk. I think we should take a walk in the woods. It's just a nice, easy way to get away from all the busyness of the city. Maybe we can make some new friends and maybe get some fresh air in the afternoon.\n",
            "\n",
            "I'm sure we can make some new friends....\n",
            "1: I don't know about you, but there's only one thing I want to do after a long day of work: watch a movie. The reason I'm going to watch a movie is because I'm bored. I'm bored of reading, I'm bored of talking to people, I'm bored of working. I want to watch something that's going to keep me busy and make me feel like I'm doing something worthwhile. And this is the movie that I've been waiting for.\n",
            "\n",
            "What is it about?\n",
            "\n",
            "\"The Fault in Our Stars\" is the story of a boy who's not a boy at all, a boy who's actually a girl. She's not a girl because she's never been a girl. She's not a girl because she's never had a boy. She's a girl because she wants to be.\n",
            "\n",
            "And I know I'm going to get a lot of flack for this, but how did you decide to tell the story in...\n",
            "2: I don't know about you, but there's only one thing I want to do after a long day of work: take a nap.\n",
            "\n",
            "I don't know if it's because I'm an adult, but I've gotten a lot of naps in the past couple of years.\n",
            "\n",
            "And I'm not alone.\n",
            "\n",
            "According to the National Sleep Foundation, Americans are getting about 20 million naps every year, and more than half of them are taken in the evening.\n",
            "\n",
            "The problem? It's not that naps are bad. They're just not something that most people do.\n",
            "\n",
            "The problem is that naps don't work for everyone.\n",
            "\n",
            "I've spent a lot of time talking to people who have naps that don't work for them.\n",
            "\n",
            "They can't do them.\n",
            "\n",
            "They can't do them because they don't know what to do.\n",
            "\n",
            "They can't do them because they don't feel like it.\n",
            "...\n",
            "3: I don't know about you, but there's only one thing I want to do after a long day of work: take a little nap.\n",
            "\n",
            "This post may contain links to Amazon or other partners; your purchases via these links can benefit Serious Eats. Read more about our affiliate linking policy....\n",
            "4: I don't know about you, but there's only one thing I want to do after a long day of work: sleep.\n",
            "\n",
            "If you're looking for the perfect way to fall asleep, try these 10 sleep tips.\n",
            "\n",
            "1. Sleep with your eyes open\n",
            "\n",
            "The human eye is like a big fan that's constantly spinning. It's the most sensitive part of our body, so it's not unusual for our eyes to be tired or droopy during the day.\n",
            "\n",
            "While most people think of sleeping with your eyes open as being a good idea, research has shown that this isn't the best option. It's not just because our eyes aren't as sensitive to light, but because it can also affect our ability to fall asleep.\n",
            "\n",
            "2. Sleep on your side\n",
            "\n",
            "Sleeping on your side can make your body sleep more soundly, and it's a great way to minimize the risk of falling asleep during the night.\n",
            "\n",
            "It's also...\n"
          ]
        }
      ]
    },
    {
      "cell_type": "markdown",
      "source": [
        "# Training GPT-2 on custom data\n"
      ],
      "metadata": {
        "id": "KY_ywuQKxYiZ"
      }
    },
    {
      "cell_type": "code",
      "source": [
        "pip install datasets"
      ],
      "metadata": {
        "collapsed": true,
        "id": "BGkCsxihwzbK"
      },
      "execution_count": null,
      "outputs": []
    },
    {
      "cell_type": "code",
      "source": [
        "import torch\n",
        "from transformers import GPT2Tokenizer, GPT2LMHeadModel, Trainer, TrainingArguments\n",
        "from datasets import load_dataset\n",
        "from nltk.corpus import gutenberg"
      ],
      "metadata": {
        "id": "Ntdc4JsToI1_"
      },
      "execution_count": null,
      "outputs": []
    },
    {
      "cell_type": "code",
      "source": [
        "def load_shakespeare_plays():\n",
        "    hamlet = gutenberg.raw('shakespeare-hamlet.txt')\n",
        "    macbeth = gutenberg.raw('shakespeare-macbeth.txt')\n",
        "    caesar = gutenberg.raw('shakespeare-caesar.txt')\n",
        "    return hamlet + '\\n' + macbeth + '\\n' + caesar\n"
      ],
      "metadata": {
        "id": "YRQ-QEJhzwPI"
      },
      "execution_count": null,
      "outputs": []
    },
    {
      "cell_type": "code",
      "source": [
        "# Prepare dataset\n",
        "def tokenize_function(examples):\n",
        "    tokens = tokenizer(examples['text'], truncation=True, padding='max_length', max_length=512)\n",
        "    tokens[\"labels\"] = tokens[\"input_ids\"].copy()  # Use input_ids as labels\n",
        "    return tokens\n"
      ],
      "metadata": {
        "id": "BDWClNSGoYHw"
      },
      "execution_count": null,
      "outputs": []
    },
    {
      "cell_type": "code",
      "source": [
        "# Load pre-trained tokenizer\n",
        "tokenizer = GPT2Tokenizer.from_pretrained('gpt2')\n",
        "tokenizer.pad_token = tokenizer.eos_token  # GPT-2 does not have a padding token"
      ],
      "metadata": {
        "id": "viTehlHjocLY"
      },
      "execution_count": null,
      "outputs": []
    },
    {
      "cell_type": "code",
      "source": [
        "# Create dataset\n",
        "data = load_shakespeare_plays()\n",
        "dataset = [{'text': data}]"
      ],
      "metadata": {
        "id": "spO-16HGxBAm"
      },
      "execution_count": null,
      "outputs": []
    },
    {
      "cell_type": "code",
      "source": [
        "# Tokenize dataset\n",
        "from datasets import Dataset\n",
        "dataset = Dataset.from_dict({'text': [data]})\n",
        "tokenized_datasets = dataset.map(tokenize_function, batched=True)"
      ],
      "metadata": {
        "colab": {
          "base_uri": "https://localhost:8080/",
          "height": 49,
          "referenced_widgets": [
            "e716c23f13ae441281ad8d6004773f5a",
            "6bbf4b0f60be45c4b863a59baa8e1f55",
            "8ff3616c6d8f425eaac6e5ed2aeedf87",
            "789ad1681a58419fbca3ed5e12c40811",
            "5dcd54888404491ea9697eb340f4fe76",
            "dca00571ab4a4cd2ba730d984aada401",
            "64fb1c0b7a5f440e831ab92d41f00d77",
            "9f642a189f3c4bb79e45d295877b3b63",
            "af3b2cb355074caead293a3eb738126a",
            "ff64c97f06f847c592d7712e88c023c1",
            "7bf583bc94034017b91aab6b6931c0ae"
          ]
        },
        "id": "pD5XXuLWofgA",
        "outputId": "e72cb2e4-4870-46fb-9ce9-7cbdcaa0c600"
      },
      "execution_count": null,
      "outputs": [
        {
          "output_type": "display_data",
          "data": {
            "text/plain": [
              "Map:   0%|          | 0/1 [00:00<?, ? examples/s]"
            ],
            "application/vnd.jupyter.widget-view+json": {
              "version_major": 2,
              "version_minor": 0,
              "model_id": "e716c23f13ae441281ad8d6004773f5a"
            }
          },
          "metadata": {}
        }
      ]
    },
    {
      "cell_type": "code",
      "source": [
        "# Load pre-trained GPT-2 model\n",
        "model = GPT2LMHeadModel.from_pretrained('gpt2')\n",
        "model.resize_token_embeddings(len(tokenizer))"
      ],
      "metadata": {
        "colab": {
          "base_uri": "https://localhost:8080/"
        },
        "id": "6HNFUwLjolmP",
        "outputId": "d9d56b4d-3197-431b-b8be-b8e188319114"
      },
      "execution_count": null,
      "outputs": [
        {
          "output_type": "execute_result",
          "data": {
            "text/plain": [
              "Embedding(50257, 768)"
            ]
          },
          "metadata": {},
          "execution_count": 56
        }
      ]
    },
    {
      "cell_type": "code",
      "source": [
        "# Training arguments\n",
        "training_args = TrainingArguments(\n",
        "    output_dir='./gpt2-shakespeare',\n",
        "    evaluation_strategy='no',\n",
        "    save_strategy='epoch',\n",
        "    per_device_train_batch_size=1,\n",
        "    per_device_eval_batch_size=1,\n",
        "    num_train_epochs=20,\n",
        "    weight_decay=0.01,\n",
        "    logging_dir='./logs',\n",
        "    logging_steps=10,\n",
        ")"
      ],
      "metadata": {
        "colab": {
          "base_uri": "https://localhost:8080/"
        },
        "id": "3WwVX8OOseG_",
        "outputId": "dd91d445-9e05-4e10-a5d6-4f35b9d13cca"
      },
      "execution_count": null,
      "outputs": [
        {
          "output_type": "stream",
          "name": "stderr",
          "text": [
            "/usr/local/lib/python3.11/dist-packages/transformers/training_args.py:1575: FutureWarning: `evaluation_strategy` is deprecated and will be removed in version 4.46 of 🤗 Transformers. Use `eval_strategy` instead\n",
            "  warnings.warn(\n"
          ]
        }
      ]
    },
    {
      "cell_type": "code",
      "source": [
        "# Trainer\n",
        "trainer = Trainer(\n",
        "    model=model,\n",
        "    args=training_args,\n",
        "    train_dataset=tokenized_datasets,\n",
        ")"
      ],
      "metadata": {
        "id": "mOifq_j9tUtg"
      },
      "execution_count": null,
      "outputs": []
    },
    {
      "cell_type": "code",
      "source": [
        "# Train model\n",
        "trainer.train()"
      ],
      "metadata": {
        "colab": {
          "base_uri": "https://localhost:8080/",
          "height": 174
        },
        "id": "BcDa8p2R0d4P",
        "outputId": "8e6966ed-2687-4cda-ae34-e3525a925cf3"
      },
      "execution_count": null,
      "outputs": [
        {
          "output_type": "display_data",
          "data": {
            "text/plain": [
              "<IPython.core.display.HTML object>"
            ],
            "text/html": [
              "\n",
              "    <div>\n",
              "      \n",
              "      <progress value='20' max='20' style='width:300px; height:20px; vertical-align: middle;'></progress>\n",
              "      [20/20 05:20, Epoch 20/20]\n",
              "    </div>\n",
              "    <table border=\"1\" class=\"dataframe\">\n",
              "  <thead>\n",
              " <tr style=\"text-align: left;\">\n",
              "      <th>Step</th>\n",
              "      <th>Training Loss</th>\n",
              "    </tr>\n",
              "  </thead>\n",
              "  <tbody>\n",
              "    <tr>\n",
              "      <td>10</td>\n",
              "      <td>3.357800</td>\n",
              "    </tr>\n",
              "    <tr>\n",
              "      <td>20</td>\n",
              "      <td>2.440100</td>\n",
              "    </tr>\n",
              "  </tbody>\n",
              "</table><p>"
            ]
          },
          "metadata": {}
        },
        {
          "output_type": "execute_result",
          "data": {
            "text/plain": [
              "TrainOutput(global_step=20, training_loss=2.898973846435547, metrics={'train_runtime': 321.0168, 'train_samples_per_second': 0.062, 'train_steps_per_second': 0.062, 'total_flos': 5225840640000.0, 'train_loss': 2.898973846435547, 'epoch': 20.0})"
            ]
          },
          "metadata": {},
          "execution_count": 74
        }
      ]
    },
    {
      "cell_type": "code",
      "source": [
        "# Save model\n",
        "tokenizer.save_pretrained('./gpt2-shakespeare')\n",
        "model.save_pretrained('./gpt2-shakespeare')\n"
      ],
      "metadata": {
        "id": "BQEUnOL409id"
      },
      "execution_count": null,
      "outputs": []
    },
    {
      "cell_type": "code",
      "source": [
        "# Test the model\n",
        "def generate_text(prompt, max_length=100):\n",
        "    model.eval()\n",
        "    device = torch.device(\"cuda\" if torch.cuda.is_available() else \"cpu\")\n",
        "    model.to(device)  # Move model to the appropriate device\n",
        "\n",
        "    inputs = tokenizer(prompt, return_tensors=\"pt\").to(device)  # Move inputs to same device\n",
        "    with torch.no_grad():\n",
        "        output = model.generate(\n",
        "            **inputs,\n",
        "            max_length=max_length,\n",
        "            num_return_sequences=5,\n",
        "            temperature= 1.2,  # Controls randomness (lower = more deterministic)\n",
        "            top_k=100,  # Limits sampling to top-k likely words\n",
        "            do_sample=True,  # Enables sampling instead of greedy decoding\n",
        "        )\n",
        "\n",
        "    return tokenizer.decode(output[0], skip_special_tokens=True)"
      ],
      "metadata": {
        "id": "Ev7nvrCk1Qb1"
      },
      "execution_count": null,
      "outputs": []
    },
    {
      "cell_type": "code",
      "source": [
        "# Example test prompt\n",
        "test_prompt = \"The fault, dear Brutus, is not in our stars, but in ourselves, that we are underlings.\"\n",
        "generated_text = generate_text(test_prompt)\n",
        "print(\"Generated Text:\\n\", generated_text)\n"
      ],
      "metadata": {
        "colab": {
          "base_uri": "https://localhost:8080/"
        },
        "id": "qGID7hCy1Dfl",
        "outputId": "ab76a1c4-b1fd-4e4c-98e7-002902494b22"
      },
      "execution_count": null,
      "outputs": [
        {
          "output_type": "stream",
          "name": "stderr",
          "text": [
            "Setting `pad_token_id` to `eos_token_id`:50256 for open-end generation.\n"
          ]
        },
        {
          "output_type": "stream",
          "name": "stdout",
          "text": [
            "Generated Text:\n",
            " The fault, dear Brutus, is not in our stars, but in ourselves, that we are underlings. O mighty soul, what art thou making of this thing? And who hast you made madmen to see Christ come, and to look down on him? Shall this be an evil thing? 'Tis good with eyes to be feared; but who will believe them to those who are under my lash? But let my servant's daughter watch thee watch; and I will tell thee what\n"
          ]
        }
      ]
    },
    {
      "cell_type": "code",
      "source": [
        "# Example test prompt\n",
        "test_prompt = \"Cry havoc and let slip the dogs of war.\"\n",
        "generated_text = generate_text(test_prompt)\n",
        "print(\"Generated Text:\\n\", generated_text)"
      ],
      "metadata": {
        "colab": {
          "base_uri": "https://localhost:8080/"
        },
        "id": "Qs19I_MM4-Ml",
        "outputId": "57c41a60-763b-4cbf-cd07-cb2fd87d3ca6"
      },
      "execution_count": null,
      "outputs": [
        {
          "output_type": "stream",
          "name": "stderr",
          "text": [
            "Setting `pad_token_id` to `eos_token_id`:50256 for open-end generation.\n"
          ]
        },
        {
          "output_type": "stream",
          "name": "stdout",
          "text": [
            "Generated Text:\n",
            " Cry havoc and let slip the dogs of war. On the contrary, there have been, at least an attempt at that kind before the Saxons. Their great strength and all their glory are under heaven, who of necessity send forth at every sight a great multitude to watch my conduct? And all this I will make with your entreaties, saying: let this multitude pass between the king and his own people; for I have no strong bed-guard.\"\n",
            "\n",
            "\"Now they will come about\n"
          ]
        }
      ]
    },
    {
      "cell_type": "code",
      "source": [
        "# Example test prompt\n",
        "test_prompt =\"Cowards die many times before their deaths; The valiant never taste of death but once.\"\n",
        "generated_text = generate_text(test_prompt)\n",
        "print(\"Generated Text:\\n\", generated_text)"
      ],
      "metadata": {
        "colab": {
          "base_uri": "https://localhost:8080/"
        },
        "id": "VTyPVV265LV8",
        "outputId": "4241bee5-dd20-4daf-cfa4-fe20c488fa47"
      },
      "execution_count": null,
      "outputs": [
        {
          "output_type": "stream",
          "name": "stderr",
          "text": [
            "Setting `pad_token_id` to `eos_token_id`:50256 for open-end generation.\n"
          ]
        },
        {
          "output_type": "stream",
          "name": "stdout",
          "text": [
            "Generated Text:\n",
            " Cowards die many times before their deaths; The valiant never taste of death but once. They stand at war 'twill come back home,' says Lord Byron. 'I telleth of it, you lad, if at- tacking you shall escape. And be content, Your holy Leflint 'Til ancien ye may sit before me, my loyal boys. 'Hail, goodnight!' — 'Twill come now to supper-time, lads.\n"
          ]
        }
      ]
    }
  ]
}